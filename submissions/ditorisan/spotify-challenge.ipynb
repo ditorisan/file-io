{
 "cells": [
  {
   "cell_type": "code",
   "execution_count": 46,
   "id": "456dc579",
   "metadata": {},
   "outputs": [
    {
     "name": "stdout",
     "output_type": "stream",
     "text": [
      "The total songs in the spotify csv file are: 953\n",
      "There are 62 songs in Spotify CSV where key is E\n",
      "The most common artist is Taylor Swift\n"
     ]
    }
   ],
   "source": [
    "import pandas as pd\n",
    "from collections import Counter\n",
    "\n",
    "# get the csv file\n",
    "df = pd.read_csv(\"spotify-2023.csv\", encoding=\"ISO-8859-1\")\n",
    "\n",
    "# Challenge 1\n",
    "songs = df[\"track_name\"]\n",
    "print(f\"The total songs in the spotify csv file are: {len(songs)}\")\n",
    "\n",
    "# Challenge 2\n",
    "songs_key_E = df[df[\"key\"] == \"E\"]\n",
    "print(f\"There are {len(songs_key_E)} songs in Spotify CSV where key is E\")\n",
    "\n",
    "# Challenge 3\n",
    "\n",
    "artists_name = df[\"artist(s)_name\"]\n",
    "artist_list = artists_name.tolist()\n",
    "artist_counts = Counter(artist_list)\n",
    "most_common_artist = artist_counts.most_common(1)\n",
    "print(f\"The most common artist is {most_common_artist[0][0]}\")\n",
    "        "
   ]
  },
  {
   "cell_type": "code",
   "execution_count": null,
   "id": "9c0aa15e",
   "metadata": {},
   "outputs": [],
   "source": []
  }
 ],
 "metadata": {
  "kernelspec": {
   "display_name": "Python 3 (ipykernel)",
   "language": "python",
   "name": "python3"
  },
  "language_info": {
   "codemirror_mode": {
    "name": "ipython",
    "version": 3
   },
   "file_extension": ".py",
   "mimetype": "text/x-python",
   "name": "python",
   "nbconvert_exporter": "python",
   "pygments_lexer": "ipython3",
   "version": "3.11.5"
  }
 },
 "nbformat": 4,
 "nbformat_minor": 5
}
